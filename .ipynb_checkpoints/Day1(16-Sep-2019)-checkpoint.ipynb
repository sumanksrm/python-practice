{
 "cells": [
  {
   "cell_type": "markdown",
   "metadata": {},
   "source": [
    "### 16-sep-2019 Day Objectives:\n",
    " - Anaconda installation\n",
    " - about anaconda navigater \n",
    " - difference between python idle and jupytoe notebook\n",
    " - about jupytor notebook\n",
    " - using jupytor notebook\n",
    " - code mode and markdown mode"
   ]
  },
  {
   "cell_type": "code",
   "execution_count": 7,
   "metadata": {},
   "outputs": [
    {
     "name": "stdout",
     "output_type": "stream",
     "text": [
      "hi hello welcome to MSTP\n",
      "i am from apssdc\n"
     ]
    }
   ],
   "source": [
    "print(\"hi hello welcome to MSTP\")\n",
    "print(\"i am from apssdc\")"
   ]
  },
  {
   "cell_type": "code",
   "execution_count": 2,
   "metadata": {},
   "outputs": [
    {
     "data": {
      "text/plain": [
       "5"
      ]
     },
     "execution_count": 2,
     "metadata": {},
     "output_type": "execute_result"
    }
   ],
   "source": [
    "2+3"
   ]
  },
  {
   "cell_type": "code",
   "execution_count": 3,
   "metadata": {},
   "outputs": [
    {
     "data": {
      "text/plain": [
       "11"
      ]
     },
     "execution_count": 3,
     "metadata": {},
     "output_type": "execute_result"
    }
   ],
   "source": [
    "4+7"
   ]
  },
  {
   "cell_type": "markdown",
   "metadata": {},
   "source": [
    "# Day objectives\n",
    "## header2 tag\n",
    "### all this hashes working like header tags\n",
    "#### it will work like as a h4 tag\n",
    "\n",
    "<p> i am using paragraph tag</p>\n",
    "<p><b> paragraph tag with bold tag</b></p>\n",
    "<img src=\"pythonimage.png\"height=200px weight=500px>\n",
    "\n",
    " ## HTML list\n",
    "  - unordered list\n",
    "     - ul tag with li tag\n",
    " \n",
    "  - ordered list\n",
    "     - ol tag with li tag\n",
    "     \n",
    " <a href=\"pythonimage.png\">click here for advanced</a>\n",
    "    "
   ]
  },
  {
   "cell_type": "code",
   "execution_count": null,
   "metadata": {},
   "outputs": [],
   "source": []
  }
 ],
 "metadata": {
  "kernelspec": {
   "display_name": "Python 3",
   "language": "python",
   "name": "python3"
  },
  "language_info": {
   "codemirror_mode": {
    "name": "ipython",
    "version": 3
   },
   "file_extension": ".py",
   "mimetype": "text/x-python",
   "name": "python",
   "nbconvert_exporter": "python",
   "pygments_lexer": "ipython3",
   "version": "3.7.3"
  }
 },
 "nbformat": 4,
 "nbformat_minor": 2
}
